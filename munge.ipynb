{
 "metadata": {
  "name": ""
 },
 "nbformat": 3,
 "nbformat_minor": 0,
 "worksheets": [
  {
   "cells": [
    {
     "cell_type": "code",
     "collapsed": false,
     "input": [
      "import pandas as pd"
     ],
     "language": "python",
     "metadata": {},
     "outputs": [],
     "prompt_number": 1
    },
    {
     "cell_type": "markdown",
     "metadata": {},
     "source": [
      "##Players College Data"
     ]
    },
    {
     "cell_type": "code",
     "collapsed": false,
     "input": [
      "players = pd.read_csv('data/players.csv', encoding='utf-8')"
     ],
     "language": "python",
     "metadata": {},
     "outputs": [],
     "prompt_number": 71
    },
    {
     "cell_type": "code",
     "collapsed": false,
     "input": [
      "players.info()"
     ],
     "language": "python",
     "metadata": {},
     "outputs": [
      {
       "output_type": "stream",
       "stream": "stdout",
       "text": [
        "<class 'pandas.core.frame.DataFrame'>\n",
        "Int64Index: 4253 entries, 0 to 4252\n",
        "Data columns (total 4 columns):\n",
        "college    3998 non-null object\n",
        "id         4253 non-null object\n",
        "name       4253 non-null object\n",
        "pos        4253 non-null object\n",
        "dtypes: object(4)"
       ]
      }
     ],
     "prompt_number": 3
    },
    {
     "cell_type": "code",
     "collapsed": false,
     "input": [
      "players[players['college'].isnull()].to_csv('data/players_nocollege.csv', index=False)"
     ],
     "language": "python",
     "metadata": {},
     "outputs": [],
     "prompt_number": 5
    },
    {
     "cell_type": "markdown",
     "metadata": {},
     "source": [
      "##Players High School Data"
     ]
    },
    {
     "cell_type": "code",
     "collapsed": false,
     "input": [
      "players_hs = pd.read_csv('data/players_hs.csv', encoding='utf-8')"
     ],
     "language": "python",
     "metadata": {},
     "outputs": [],
     "prompt_number": 6
    },
    {
     "cell_type": "code",
     "collapsed": false,
     "input": [
      "players_hs.info()"
     ],
     "language": "python",
     "metadata": {},
     "outputs": [
      {
       "output_type": "stream",
       "stream": "stdout",
       "text": [
        "<class 'pandas.core.frame.DataFrame'>\n",
        "Int64Index: 3650 entries, 0 to 3649\n",
        "Data columns (total 5 columns):\n",
        "id                  3498 non-null object\n",
        "highschool_city     3494 non-null object\n",
        "highschool          3495 non-null object\n",
        "highschool_state    3650 non-null object\n",
        "name                3498 non-null object\n",
        "dtypes: object(5)"
       ]
      }
     ],
     "prompt_number": 7
    },
    {
     "cell_type": "code",
     "collapsed": false,
     "input": [
      "players_hs[players_hs['name'].isnull()]"
     ],
     "language": "python",
     "metadata": {},
     "outputs": [
      {
       "html": [
        "<div style=\"max-height:1000px;max-width:1500px;overflow:auto;\">\n",
        "<table border=\"1\" class=\"dataframe\">\n",
        "  <thead>\n",
        "    <tr style=\"text-align: right;\">\n",
        "      <th></th>\n",
        "      <th>id</th>\n",
        "      <th>highschool_city</th>\n",
        "      <th>highschool</th>\n",
        "      <th>highschool_state</th>\n",
        "      <th>name</th>\n",
        "    </tr>\n",
        "  </thead>\n",
        "  <tbody>\n",
        "    <tr>\n",
        "      <th>20  </th>\n",
        "      <td> NaN</td>\n",
        "      <td> NaN</td>\n",
        "      <td> NaN</td>\n",
        "      <td> AL</td>\n",
        "      <td> NaN</td>\n",
        "    </tr>\n",
        "    <tr>\n",
        "      <th>41  </th>\n",
        "      <td> NaN</td>\n",
        "      <td> NaN</td>\n",
        "      <td> NaN</td>\n",
        "      <td> AL</td>\n",
        "      <td> NaN</td>\n",
        "    </tr>\n",
        "    <tr>\n",
        "      <th>86  </th>\n",
        "      <td> NaN</td>\n",
        "      <td> NaN</td>\n",
        "      <td> NaN</td>\n",
        "      <td> MD</td>\n",
        "      <td> NaN</td>\n",
        "    </tr>\n",
        "    <tr>\n",
        "      <th>107 </th>\n",
        "      <td> NaN</td>\n",
        "      <td> NaN</td>\n",
        "      <td> NaN</td>\n",
        "      <td> MD</td>\n",
        "      <td> NaN</td>\n",
        "    </tr>\n",
        "    <tr>\n",
        "      <th>128 </th>\n",
        "      <td> NaN</td>\n",
        "      <td> NaN</td>\n",
        "      <td> NaN</td>\n",
        "      <td> MD</td>\n",
        "      <td> NaN</td>\n",
        "    </tr>\n",
        "    <tr>\n",
        "      <th>149 </th>\n",
        "      <td> NaN</td>\n",
        "      <td> NaN</td>\n",
        "      <td> NaN</td>\n",
        "      <td> MD</td>\n",
        "      <td> NaN</td>\n",
        "    </tr>\n",
        "    <tr>\n",
        "      <th>173 </th>\n",
        "      <td> NaN</td>\n",
        "      <td> NaN</td>\n",
        "      <td> NaN</td>\n",
        "      <td> WI</td>\n",
        "      <td> NaN</td>\n",
        "    </tr>\n",
        "    <tr>\n",
        "      <th>194 </th>\n",
        "      <td> NaN</td>\n",
        "      <td> NaN</td>\n",
        "      <td> NaN</td>\n",
        "      <td> WI</td>\n",
        "      <td> NaN</td>\n",
        "    </tr>\n",
        "    <tr>\n",
        "      <th>220 </th>\n",
        "      <td> NaN</td>\n",
        "      <td> NaN</td>\n",
        "      <td> NaN</td>\n",
        "      <td> WV</td>\n",
        "      <td> NaN</td>\n",
        "    </tr>\n",
        "    <tr>\n",
        "      <th>243 </th>\n",
        "      <td> NaN</td>\n",
        "      <td> NaN</td>\n",
        "      <td> NaN</td>\n",
        "      <td> WA</td>\n",
        "      <td> NaN</td>\n",
        "    </tr>\n",
        "    <tr>\n",
        "      <th>264 </th>\n",
        "      <td> NaN</td>\n",
        "      <td> NaN</td>\n",
        "      <td> NaN</td>\n",
        "      <td> WA</td>\n",
        "      <td> NaN</td>\n",
        "    </tr>\n",
        "    <tr>\n",
        "      <th>305 </th>\n",
        "      <td> NaN</td>\n",
        "      <td> NaN</td>\n",
        "      <td> NaN</td>\n",
        "      <td> VA</td>\n",
        "      <td> NaN</td>\n",
        "    </tr>\n",
        "    <tr>\n",
        "      <th>326 </th>\n",
        "      <td> NaN</td>\n",
        "      <td> NaN</td>\n",
        "      <td> NaN</td>\n",
        "      <td> VA</td>\n",
        "      <td> NaN</td>\n",
        "    </tr>\n",
        "    <tr>\n",
        "      <th>347 </th>\n",
        "      <td> NaN</td>\n",
        "      <td> NaN</td>\n",
        "      <td> NaN</td>\n",
        "      <td> VA</td>\n",
        "      <td> NaN</td>\n",
        "    </tr>\n",
        "    <tr>\n",
        "      <th>368 </th>\n",
        "      <td> NaN</td>\n",
        "      <td> NaN</td>\n",
        "      <td> NaN</td>\n",
        "      <td> VA</td>\n",
        "      <td> NaN</td>\n",
        "    </tr>\n",
        "    <tr>\n",
        "      <th>389 </th>\n",
        "      <td> NaN</td>\n",
        "      <td> NaN</td>\n",
        "      <td> NaN</td>\n",
        "      <td> VA</td>\n",
        "      <td> NaN</td>\n",
        "    </tr>\n",
        "    <tr>\n",
        "      <th>433 </th>\n",
        "      <td> NaN</td>\n",
        "      <td> NaN</td>\n",
        "      <td> NaN</td>\n",
        "      <td> TX</td>\n",
        "      <td> NaN</td>\n",
        "    </tr>\n",
        "    <tr>\n",
        "      <th>454 </th>\n",
        "      <td> NaN</td>\n",
        "      <td> NaN</td>\n",
        "      <td> NaN</td>\n",
        "      <td> TX</td>\n",
        "      <td> NaN</td>\n",
        "    </tr>\n",
        "    <tr>\n",
        "      <th>475 </th>\n",
        "      <td> NaN</td>\n",
        "      <td> NaN</td>\n",
        "      <td> NaN</td>\n",
        "      <td> TX</td>\n",
        "      <td> NaN</td>\n",
        "    </tr>\n",
        "    <tr>\n",
        "      <th>496 </th>\n",
        "      <td> NaN</td>\n",
        "      <td> NaN</td>\n",
        "      <td> NaN</td>\n",
        "      <td> TX</td>\n",
        "      <td> NaN</td>\n",
        "    </tr>\n",
        "    <tr>\n",
        "      <th>517 </th>\n",
        "      <td> NaN</td>\n",
        "      <td> NaN</td>\n",
        "      <td> NaN</td>\n",
        "      <td> TX</td>\n",
        "      <td> NaN</td>\n",
        "    </tr>\n",
        "    <tr>\n",
        "      <th>538 </th>\n",
        "      <td> NaN</td>\n",
        "      <td> NaN</td>\n",
        "      <td> NaN</td>\n",
        "      <td> TX</td>\n",
        "      <td> NaN</td>\n",
        "    </tr>\n",
        "    <tr>\n",
        "      <th>559 </th>\n",
        "      <td> NaN</td>\n",
        "      <td> NaN</td>\n",
        "      <td> NaN</td>\n",
        "      <td> TX</td>\n",
        "      <td> NaN</td>\n",
        "    </tr>\n",
        "    <tr>\n",
        "      <th>597 </th>\n",
        "      <td> NaN</td>\n",
        "      <td> NaN</td>\n",
        "      <td> NaN</td>\n",
        "      <td> TN</td>\n",
        "      <td> NaN</td>\n",
        "    </tr>\n",
        "    <tr>\n",
        "      <th>618 </th>\n",
        "      <td> NaN</td>\n",
        "      <td> NaN</td>\n",
        "      <td> NaN</td>\n",
        "      <td> TN</td>\n",
        "      <td> NaN</td>\n",
        "    </tr>\n",
        "    <tr>\n",
        "      <th>639 </th>\n",
        "      <td> NaN</td>\n",
        "      <td> NaN</td>\n",
        "      <td> NaN</td>\n",
        "      <td> TN</td>\n",
        "      <td> NaN</td>\n",
        "    </tr>\n",
        "    <tr>\n",
        "      <th>680 </th>\n",
        "      <td> NaN</td>\n",
        "      <td> NaN</td>\n",
        "      <td> NaN</td>\n",
        "      <td> SC</td>\n",
        "      <td> NaN</td>\n",
        "    </tr>\n",
        "    <tr>\n",
        "      <th>709 </th>\n",
        "      <td> NaN</td>\n",
        "      <td> NaN</td>\n",
        "      <td> NaN</td>\n",
        "      <td> PA</td>\n",
        "      <td> NaN</td>\n",
        "    </tr>\n",
        "    <tr>\n",
        "      <th>730 </th>\n",
        "      <td> NaN</td>\n",
        "      <td> NaN</td>\n",
        "      <td> NaN</td>\n",
        "      <td> PA</td>\n",
        "      <td> NaN</td>\n",
        "    </tr>\n",
        "    <tr>\n",
        "      <th>751 </th>\n",
        "      <td> NaN</td>\n",
        "      <td> NaN</td>\n",
        "      <td> NaN</td>\n",
        "      <td> PA</td>\n",
        "      <td> NaN</td>\n",
        "    </tr>\n",
        "    <tr>\n",
        "      <th>772 </th>\n",
        "      <td> NaN</td>\n",
        "      <td> NaN</td>\n",
        "      <td> NaN</td>\n",
        "      <td> PA</td>\n",
        "      <td> NaN</td>\n",
        "    </tr>\n",
        "    <tr>\n",
        "      <th>793 </th>\n",
        "      <td> NaN</td>\n",
        "      <td> NaN</td>\n",
        "      <td> NaN</td>\n",
        "      <td> PA</td>\n",
        "      <td> NaN</td>\n",
        "    </tr>\n",
        "    <tr>\n",
        "      <th>814 </th>\n",
        "      <td> NaN</td>\n",
        "      <td> NaN</td>\n",
        "      <td> NaN</td>\n",
        "      <td> PA</td>\n",
        "      <td> NaN</td>\n",
        "    </tr>\n",
        "    <tr>\n",
        "      <th>835 </th>\n",
        "      <td> NaN</td>\n",
        "      <td> NaN</td>\n",
        "      <td> NaN</td>\n",
        "      <td> PA</td>\n",
        "      <td> NaN</td>\n",
        "    </tr>\n",
        "    <tr>\n",
        "      <th>856 </th>\n",
        "      <td> NaN</td>\n",
        "      <td> NaN</td>\n",
        "      <td> NaN</td>\n",
        "      <td> PA</td>\n",
        "      <td> NaN</td>\n",
        "    </tr>\n",
        "    <tr>\n",
        "      <th>877 </th>\n",
        "      <td> NaN</td>\n",
        "      <td> NaN</td>\n",
        "      <td> NaN</td>\n",
        "      <td> PA</td>\n",
        "      <td> NaN</td>\n",
        "    </tr>\n",
        "    <tr>\n",
        "      <th>912 </th>\n",
        "      <td> NaN</td>\n",
        "      <td> NaN</td>\n",
        "      <td> NaN</td>\n",
        "      <td> OR</td>\n",
        "      <td> NaN</td>\n",
        "    </tr>\n",
        "    <tr>\n",
        "      <th>942 </th>\n",
        "      <td> NaN</td>\n",
        "      <td> NaN</td>\n",
        "      <td> NaN</td>\n",
        "      <td> OK</td>\n",
        "      <td> NaN</td>\n",
        "    </tr>\n",
        "    <tr>\n",
        "      <th>981 </th>\n",
        "      <td> NaN</td>\n",
        "      <td> NaN</td>\n",
        "      <td> NaN</td>\n",
        "      <td> OH</td>\n",
        "      <td> NaN</td>\n",
        "    </tr>\n",
        "    <tr>\n",
        "      <th>1002</th>\n",
        "      <td> NaN</td>\n",
        "      <td> NaN</td>\n",
        "      <td> NaN</td>\n",
        "      <td> OH</td>\n",
        "      <td> NaN</td>\n",
        "    </tr>\n",
        "    <tr>\n",
        "      <th>1023</th>\n",
        "      <td> NaN</td>\n",
        "      <td> NaN</td>\n",
        "      <td> NaN</td>\n",
        "      <td> OH</td>\n",
        "      <td> NaN</td>\n",
        "    </tr>\n",
        "    <tr>\n",
        "      <th>1044</th>\n",
        "      <td> NaN</td>\n",
        "      <td> NaN</td>\n",
        "      <td> NaN</td>\n",
        "      <td> OH</td>\n",
        "      <td> NaN</td>\n",
        "    </tr>\n",
        "    <tr>\n",
        "      <th>1065</th>\n",
        "      <td> NaN</td>\n",
        "      <td> NaN</td>\n",
        "      <td> NaN</td>\n",
        "      <td> OH</td>\n",
        "      <td> NaN</td>\n",
        "    </tr>\n",
        "    <tr>\n",
        "      <th>1086</th>\n",
        "      <td> NaN</td>\n",
        "      <td> NaN</td>\n",
        "      <td> NaN</td>\n",
        "      <td> OH</td>\n",
        "      <td> NaN</td>\n",
        "    </tr>\n",
        "    <tr>\n",
        "      <th>1107</th>\n",
        "      <td> NaN</td>\n",
        "      <td> NaN</td>\n",
        "      <td> NaN</td>\n",
        "      <td> OH</td>\n",
        "      <td> NaN</td>\n",
        "    </tr>\n",
        "    <tr>\n",
        "      <th>1143</th>\n",
        "      <td> NaN</td>\n",
        "      <td> NaN</td>\n",
        "      <td> NaN</td>\n",
        "      <td> NC</td>\n",
        "      <td> NaN</td>\n",
        "    </tr>\n",
        "    <tr>\n",
        "      <th>1164</th>\n",
        "      <td> NaN</td>\n",
        "      <td> NaN</td>\n",
        "      <td> NaN</td>\n",
        "      <td> NC</td>\n",
        "      <td> NaN</td>\n",
        "    </tr>\n",
        "    <tr>\n",
        "      <th>1185</th>\n",
        "      <td> NaN</td>\n",
        "      <td> NaN</td>\n",
        "      <td> NaN</td>\n",
        "      <td> NC</td>\n",
        "      <td> NaN</td>\n",
        "    </tr>\n",
        "    <tr>\n",
        "      <th>1206</th>\n",
        "      <td> NaN</td>\n",
        "      <td> NaN</td>\n",
        "      <td> NaN</td>\n",
        "      <td> NC</td>\n",
        "      <td> NaN</td>\n",
        "    </tr>\n",
        "    <tr>\n",
        "      <th>1227</th>\n",
        "      <td> NaN</td>\n",
        "      <td> NaN</td>\n",
        "      <td> NaN</td>\n",
        "      <td> NC</td>\n",
        "      <td> NaN</td>\n",
        "    </tr>\n",
        "    <tr>\n",
        "      <th>1260</th>\n",
        "      <td> NaN</td>\n",
        "      <td> NaN</td>\n",
        "      <td> NaN</td>\n",
        "      <td> NY</td>\n",
        "      <td> NaN</td>\n",
        "    </tr>\n",
        "    <tr>\n",
        "      <th>1281</th>\n",
        "      <td> NaN</td>\n",
        "      <td> NaN</td>\n",
        "      <td> NaN</td>\n",
        "      <td> NY</td>\n",
        "      <td> NaN</td>\n",
        "    </tr>\n",
        "    <tr>\n",
        "      <th>1302</th>\n",
        "      <td> NaN</td>\n",
        "      <td> NaN</td>\n",
        "      <td> NaN</td>\n",
        "      <td> NY</td>\n",
        "      <td> NaN</td>\n",
        "    </tr>\n",
        "    <tr>\n",
        "      <th>1323</th>\n",
        "      <td> NaN</td>\n",
        "      <td> NaN</td>\n",
        "      <td> NaN</td>\n",
        "      <td> NY</td>\n",
        "      <td> NaN</td>\n",
        "    </tr>\n",
        "    <tr>\n",
        "      <th>1344</th>\n",
        "      <td> NaN</td>\n",
        "      <td> NaN</td>\n",
        "      <td> NaN</td>\n",
        "      <td> NY</td>\n",
        "      <td> NaN</td>\n",
        "    </tr>\n",
        "    <tr>\n",
        "      <th>1365</th>\n",
        "      <td> NaN</td>\n",
        "      <td> NaN</td>\n",
        "      <td> NaN</td>\n",
        "      <td> NY</td>\n",
        "      <td> NaN</td>\n",
        "    </tr>\n",
        "    <tr>\n",
        "      <th>1386</th>\n",
        "      <td> NaN</td>\n",
        "      <td> NaN</td>\n",
        "      <td> NaN</td>\n",
        "      <td> NY</td>\n",
        "      <td> NaN</td>\n",
        "    </tr>\n",
        "    <tr>\n",
        "      <th>1407</th>\n",
        "      <td> NaN</td>\n",
        "      <td> NaN</td>\n",
        "      <td> NaN</td>\n",
        "      <td> NY</td>\n",
        "      <td> NaN</td>\n",
        "    </tr>\n",
        "    <tr>\n",
        "      <th>1428</th>\n",
        "      <td> NaN</td>\n",
        "      <td> NaN</td>\n",
        "      <td> NaN</td>\n",
        "      <td> NY</td>\n",
        "      <td> NaN</td>\n",
        "    </tr>\n",
        "    <tr>\n",
        "      <th>1449</th>\n",
        "      <td> NaN</td>\n",
        "      <td> NaN</td>\n",
        "      <td> NaN</td>\n",
        "      <td> NY</td>\n",
        "      <td> NaN</td>\n",
        "    </tr>\n",
        "    <tr>\n",
        "      <th></th>\n",
        "      <td>...</td>\n",
        "      <td>...</td>\n",
        "      <td>...</td>\n",
        "      <td>...</td>\n",
        "      <td>...</td>\n",
        "    </tr>\n",
        "  </tbody>\n",
        "</table>\n",
        "<p>152 rows \u00d7 5 columns</p>\n",
        "</div>"
       ],
       "metadata": {},
       "output_type": "pyout",
       "prompt_number": 9,
       "text": [
        "       id highschool_city highschool highschool_state name\n",
        "20    NaN             NaN        NaN               AL  NaN\n",
        "41    NaN             NaN        NaN               AL  NaN\n",
        "86    NaN             NaN        NaN               MD  NaN\n",
        "107   NaN             NaN        NaN               MD  NaN\n",
        "128   NaN             NaN        NaN               MD  NaN\n",
        "149   NaN             NaN        NaN               MD  NaN\n",
        "173   NaN             NaN        NaN               WI  NaN\n",
        "194   NaN             NaN        NaN               WI  NaN\n",
        "220   NaN             NaN        NaN               WV  NaN\n",
        "243   NaN             NaN        NaN               WA  NaN\n",
        "264   NaN             NaN        NaN               WA  NaN\n",
        "305   NaN             NaN        NaN               VA  NaN\n",
        "326   NaN             NaN        NaN               VA  NaN\n",
        "347   NaN             NaN        NaN               VA  NaN\n",
        "368   NaN             NaN        NaN               VA  NaN\n",
        "389   NaN             NaN        NaN               VA  NaN\n",
        "433   NaN             NaN        NaN               TX  NaN\n",
        "454   NaN             NaN        NaN               TX  NaN\n",
        "475   NaN             NaN        NaN               TX  NaN\n",
        "496   NaN             NaN        NaN               TX  NaN\n",
        "517   NaN             NaN        NaN               TX  NaN\n",
        "538   NaN             NaN        NaN               TX  NaN\n",
        "559   NaN             NaN        NaN               TX  NaN\n",
        "597   NaN             NaN        NaN               TN  NaN\n",
        "618   NaN             NaN        NaN               TN  NaN\n",
        "639   NaN             NaN        NaN               TN  NaN\n",
        "680   NaN             NaN        NaN               SC  NaN\n",
        "709   NaN             NaN        NaN               PA  NaN\n",
        "730   NaN             NaN        NaN               PA  NaN\n",
        "751   NaN             NaN        NaN               PA  NaN\n",
        "772   NaN             NaN        NaN               PA  NaN\n",
        "793   NaN             NaN        NaN               PA  NaN\n",
        "814   NaN             NaN        NaN               PA  NaN\n",
        "835   NaN             NaN        NaN               PA  NaN\n",
        "856   NaN             NaN        NaN               PA  NaN\n",
        "877   NaN             NaN        NaN               PA  NaN\n",
        "912   NaN             NaN        NaN               OR  NaN\n",
        "942   NaN             NaN        NaN               OK  NaN\n",
        "981   NaN             NaN        NaN               OH  NaN\n",
        "1002  NaN             NaN        NaN               OH  NaN\n",
        "1023  NaN             NaN        NaN               OH  NaN\n",
        "1044  NaN             NaN        NaN               OH  NaN\n",
        "1065  NaN             NaN        NaN               OH  NaN\n",
        "1086  NaN             NaN        NaN               OH  NaN\n",
        "1107  NaN             NaN        NaN               OH  NaN\n",
        "1143  NaN             NaN        NaN               NC  NaN\n",
        "1164  NaN             NaN        NaN               NC  NaN\n",
        "1185  NaN             NaN        NaN               NC  NaN\n",
        "1206  NaN             NaN        NaN               NC  NaN\n",
        "1227  NaN             NaN        NaN               NC  NaN\n",
        "1260  NaN             NaN        NaN               NY  NaN\n",
        "1281  NaN             NaN        NaN               NY  NaN\n",
        "1302  NaN             NaN        NaN               NY  NaN\n",
        "1323  NaN             NaN        NaN               NY  NaN\n",
        "1344  NaN             NaN        NaN               NY  NaN\n",
        "1365  NaN             NaN        NaN               NY  NaN\n",
        "1386  NaN             NaN        NaN               NY  NaN\n",
        "1407  NaN             NaN        NaN               NY  NaN\n",
        "1428  NaN             NaN        NaN               NY  NaN\n",
        "1449  NaN             NaN        NaN               NY  NaN\n",
        "      ...             ...        ...              ...  ...\n",
        "\n",
        "[152 rows x 5 columns]"
       ]
      }
     ],
     "prompt_number": 9
    },
    {
     "cell_type": "code",
     "collapsed": false,
     "input": [
      "players_hs_cleaned = players_hs.dropna(subset=['name'])"
     ],
     "language": "python",
     "metadata": {},
     "outputs": [],
     "prompt_number": 14
    },
    {
     "cell_type": "code",
     "collapsed": false,
     "input": [
      "players_hs_cleaned.info()"
     ],
     "language": "python",
     "metadata": {},
     "outputs": [
      {
       "output_type": "stream",
       "stream": "stdout",
       "text": [
        "<class 'pandas.core.frame.DataFrame'>\n",
        "Int64Index: 3498 entries, 0 to 3649\n",
        "Data columns (total 5 columns):\n",
        "id                  3498 non-null object\n",
        "highschool_city     3494 non-null object\n",
        "highschool          3495 non-null object\n",
        "highschool_state    3498 non-null object\n",
        "name                3498 non-null object\n",
        "dtypes: object(5)"
       ]
      }
     ],
     "prompt_number": 15
    },
    {
     "cell_type": "code",
     "collapsed": false,
     "input": [
      "players_hs_cleaned[players_hs_cleaned['highschool'].isnull()]"
     ],
     "language": "python",
     "metadata": {},
     "outputs": [
      {
       "html": [
        "<div style=\"max-height:1000px;max-width:1500px;overflow:auto;\">\n",
        "<table border=\"1\" class=\"dataframe\">\n",
        "  <thead>\n",
        "    <tr style=\"text-align: right;\">\n",
        "      <th></th>\n",
        "      <th>id</th>\n",
        "      <th>highschool_city</th>\n",
        "      <th>highschool</th>\n",
        "      <th>highschool_state</th>\n",
        "      <th>name</th>\n",
        "    </tr>\n",
        "  </thead>\n",
        "  <tbody>\n",
        "    <tr>\n",
        "      <th>1335</th>\n",
        "      <td> feigege01</td>\n",
        "      <td>              NaN</td>\n",
        "      <td> NaN</td>\n",
        "      <td> NY</td>\n",
        "      <td> George Feigenbaum</td>\n",
        "    </tr>\n",
        "    <tr>\n",
        "      <th>1732</th>\n",
        "      <td> silasxa01</td>\n",
        "      <td> Brewster Academy</td>\n",
        "      <td> NaN</td>\n",
        "      <td> NH</td>\n",
        "      <td>      Xavier Silas</td>\n",
        "    </tr>\n",
        "    <tr>\n",
        "      <th>3029</th>\n",
        "      <td> strawjo01</td>\n",
        "      <td>      Belle Glade</td>\n",
        "      <td> NaN</td>\n",
        "      <td> FL</td>\n",
        "      <td>      Joe Strawder</td>\n",
        "    </tr>\n",
        "  </tbody>\n",
        "</table>\n",
        "<p>3 rows \u00d7 5 columns</p>\n",
        "</div>"
       ],
       "metadata": {},
       "output_type": "pyout",
       "prompt_number": 16,
       "text": [
        "             id   highschool_city highschool highschool_state  \\\n",
        "1335  feigege01               NaN        NaN               NY   \n",
        "1732  silasxa01  Brewster Academy        NaN               NH   \n",
        "3029  strawjo01       Belle Glade        NaN               FL   \n",
        "\n",
        "                   name  \n",
        "1335  George Feigenbaum  \n",
        "1732       Xavier Silas  \n",
        "3029       Joe Strawder  \n",
        "\n",
        "[3 rows x 5 columns]"
       ]
      }
     ],
     "prompt_number": 16
    },
    {
     "cell_type": "code",
     "collapsed": false,
     "input": [
      "players_hs_cleaned.loc[players_hs_cleaned['id']=='silasxa01', 'highschool'] = 'Brewster Academy'"
     ],
     "language": "python",
     "metadata": {},
     "outputs": [],
     "prompt_number": 28
    },
    {
     "cell_type": "code",
     "collapsed": false,
     "input": [
      "players_hs_cleaned.loc[players_hs_cleaned['id']=='silasxa01', 'highschool_city'] = 'Wolfeboro'"
     ],
     "language": "python",
     "metadata": {},
     "outputs": [],
     "prompt_number": 29
    },
    {
     "cell_type": "code",
     "collapsed": false,
     "input": [
      "players_hs_cleaned.loc[players_hs_cleaned['id']=='strawjo01', 'highschool'] = 'Belle Glade'"
     ],
     "language": "python",
     "metadata": {},
     "outputs": [],
     "prompt_number": 31
    },
    {
     "cell_type": "code",
     "collapsed": false,
     "input": [
      "players_hs_cleaned[players_hs_cleaned['highschool_city'].isnull()]"
     ],
     "language": "python",
     "metadata": {},
     "outputs": [
      {
       "html": [
        "<div style=\"max-height:1000px;max-width:1500px;overflow:auto;\">\n",
        "<table border=\"1\" class=\"dataframe\">\n",
        "  <thead>\n",
        "    <tr style=\"text-align: right;\">\n",
        "      <th></th>\n",
        "      <th>id</th>\n",
        "      <th>highschool_city</th>\n",
        "      <th>highschool</th>\n",
        "      <th>highschool_state</th>\n",
        "      <th>name</th>\n",
        "    </tr>\n",
        "  </thead>\n",
        "  <tbody>\n",
        "    <tr>\n",
        "      <th>156 </th>\n",
        "      <td>  blueva01</td>\n",
        "      <td> NaN</td>\n",
        "      <td>          Madison Memorial</td>\n",
        "      <td> WI</td>\n",
        "      <td>       Vander Blue</td>\n",
        "    </tr>\n",
        "    <tr>\n",
        "      <th>1335</th>\n",
        "      <td> feigege01</td>\n",
        "      <td> NaN</td>\n",
        "      <td>                       NaN</td>\n",
        "      <td> NY</td>\n",
        "      <td> George Feigenbaum</td>\n",
        "    </tr>\n",
        "    <tr>\n",
        "      <th>1404</th>\n",
        "      <td> joneske01</td>\n",
        "      <td> NaN</td>\n",
        "      <td>              Mount Vernon</td>\n",
        "      <td> NY</td>\n",
        "      <td>       Kevin Jones</td>\n",
        "    </tr>\n",
        "    <tr>\n",
        "      <th>2026</th>\n",
        "      <td> mccalra01</td>\n",
        "      <td> NaN</td>\n",
        "      <td> Detroit County Day School</td>\n",
        "      <td> MI</td>\n",
        "      <td>      Ray McCallum</td>\n",
        "    </tr>\n",
        "  </tbody>\n",
        "</table>\n",
        "<p>4 rows \u00d7 5 columns</p>\n",
        "</div>"
       ],
       "metadata": {},
       "output_type": "pyout",
       "prompt_number": 35,
       "text": [
        "             id highschool_city                 highschool highschool_state  \\\n",
        "156    blueva01             NaN           Madison Memorial               WI   \n",
        "1335  feigege01             NaN                        NaN               NY   \n",
        "1404  joneske01             NaN               Mount Vernon               NY   \n",
        "2026  mccalra01             NaN  Detroit County Day School               MI   \n",
        "\n",
        "                   name  \n",
        "156         Vander Blue  \n",
        "1335  George Feigenbaum  \n",
        "1404        Kevin Jones  \n",
        "2026       Ray McCallum  \n",
        "\n",
        "[4 rows x 5 columns]"
       ]
      }
     ],
     "prompt_number": 35
    },
    {
     "cell_type": "code",
     "collapsed": false,
     "input": [
      "players_hs_cleaned.loc[players_hs_cleaned['id']=='blueva01', 'highschool_city'] = 'Madison'"
     ],
     "language": "python",
     "metadata": {},
     "outputs": [],
     "prompt_number": 36
    },
    {
     "cell_type": "code",
     "collapsed": false,
     "input": [
      "players_hs_cleaned.loc[players_hs_cleaned['id']=='mccalra01', 'highschool_city'] = 'Beverly Hills'"
     ],
     "language": "python",
     "metadata": {},
     "outputs": [],
     "prompt_number": 37
    },
    {
     "cell_type": "code",
     "collapsed": false,
     "input": [
      "players_hs_cleaned.loc[players_hs_cleaned['id']=='joneske01', 'highschool_city'] = 'Mount Vernon'"
     ],
     "language": "python",
     "metadata": {},
     "outputs": [],
     "prompt_number": 41
    },
    {
     "cell_type": "code",
     "collapsed": false,
     "input": [
      "players_hs_cleaned.info()"
     ],
     "language": "python",
     "metadata": {},
     "outputs": [
      {
       "output_type": "stream",
       "stream": "stdout",
       "text": [
        "<class 'pandas.core.frame.DataFrame'>\n",
        "Int64Index: 3498 entries, 0 to 3649\n",
        "Data columns (total 5 columns):\n",
        "id                  3498 non-null object\n",
        "highschool_city     3497 non-null object\n",
        "highschool          3497 non-null object\n",
        "highschool_state    3498 non-null object\n",
        "name                3498 non-null object\n",
        "dtypes: object(5)"
       ]
      }
     ],
     "prompt_number": 44
    },
    {
     "cell_type": "code",
     "collapsed": false,
     "input": [
      "players_hs_cleaned.columns = ['id', 'city', 'hs', 'state', 'name']"
     ],
     "language": "python",
     "metadata": {},
     "outputs": [],
     "prompt_number": 82
    },
    {
     "cell_type": "code",
     "collapsed": false,
     "input": [
      "players_hs_cleaned.sort(columns=['state','id']).to_csv('data/players_hs_cleaned.csv', index=False)"
     ],
     "language": "python",
     "metadata": {},
     "outputs": [],
     "prompt_number": 83
    },
    {
     "cell_type": "markdown",
     "metadata": {},
     "source": [
      "##Players RAPM Performance Data"
     ]
    },
    {
     "cell_type": "code",
     "collapsed": false,
     "input": [
      "players_rapm = pd.read_csv('data/players_rapm.csv', header=None, names=['rapm_off','name','rapm_def','rapm_both','season','poss'], encoding='utf-8')"
     ],
     "language": "python",
     "metadata": {},
     "outputs": [],
     "prompt_number": 52
    },
    {
     "cell_type": "code",
     "collapsed": false,
     "input": [
      "players_rapm.info()"
     ],
     "language": "python",
     "metadata": {},
     "outputs": [
      {
       "output_type": "stream",
       "stream": "stdout",
       "text": [
        "<class 'pandas.core.frame.DataFrame'>\n",
        "Int64Index: 12466 entries, 0 to 12465\n",
        "Data columns (total 6 columns):\n",
        "rapm_off     12466 non-null object\n",
        "name         12466 non-null object\n",
        "rapm_def     12466 non-null object\n",
        "rapm_both    12466 non-null object\n",
        "season       12466 non-null object\n",
        "poss         12466 non-null object\n",
        "dtypes: object(6)"
       ]
      }
     ],
     "prompt_number": 53
    },
    {
     "cell_type": "code",
     "collapsed": false,
     "input": [
      "xrapm = players_rapm['season']!='xRAPM'\n",
      "aspm = players_rapm['season']!='ASPM'\n",
      "nineties = players_rapm['season']!='90s'\n",
      "fourteen = players_rapm['season']!='2014'\n",
      "name = players_rapm['name']!='Name'"
     ],
     "language": "python",
     "metadata": {},
     "outputs": [],
     "prompt_number": 77
    },
    {
     "cell_type": "code",
     "collapsed": false,
     "input": [
      "players_rapm_cleaned = players_rapm[xrapm & aspm & nineties & fourteen & name]"
     ],
     "language": "python",
     "metadata": {},
     "outputs": [],
     "prompt_number": 79
    },
    {
     "cell_type": "code",
     "collapsed": false,
     "input": [
      "players_rapm_cleaned = players_rapm_cleaned.convert_objects(convert_numeric=True)"
     ],
     "language": "python",
     "metadata": {},
     "outputs": [],
     "prompt_number": 85
    },
    {
     "cell_type": "code",
     "collapsed": false,
     "input": [
      "players_rapm_new = pd.read_csv('data/players_rapm_new.csv', header=None, names=['rapm_off','name','rapm_def','rapm_both','season','poss'], encoding='utf-8')"
     ],
     "language": "python",
     "metadata": {},
     "outputs": [],
     "prompt_number": 87
    },
    {
     "cell_type": "code",
     "collapsed": false,
     "input": [
      "players_rapm_new_cleaned = players_rapm_new[players_rapm_new['name']!='Name']"
     ],
     "language": "python",
     "metadata": {},
     "outputs": [],
     "prompt_number": 91
    },
    {
     "cell_type": "code",
     "collapsed": false,
     "input": [
      "players_rapm_new_cleaned = players_rapm_new_cleaned.convert_objects(convert_numeric=True)"
     ],
     "language": "python",
     "metadata": {},
     "outputs": [],
     "prompt_number": 92
    },
    {
     "cell_type": "code",
     "collapsed": false,
     "input": [
      "players_rapm_combined = pd.concat([players_rapm_cleaned, players_rapm_new_cleaned])"
     ],
     "language": "python",
     "metadata": {},
     "outputs": [],
     "prompt_number": 98
    },
    {
     "cell_type": "code",
     "collapsed": false,
     "input": [
      "players_rapm_combined.sort(columns=['season','rapm_both','name'], ascending=[True, False, True])[['name','rapm_off','rapm_def','rapm_both','season','poss']].to_csv('data/players_rapm_cleaned.csv', index=False)"
     ],
     "language": "python",
     "metadata": {},
     "outputs": [],
     "prompt_number": 99
    },
    {
     "cell_type": "markdown",
     "metadata": {},
     "source": [
      "##Coaches Data"
     ]
    },
    {
     "cell_type": "code",
     "collapsed": false,
     "input": [
      "coaches = pd.read_csv('data/coaches.csv', encoding='utf-8')"
     ],
     "language": "python",
     "metadata": {},
     "outputs": [],
     "prompt_number": 48
    },
    {
     "cell_type": "code",
     "collapsed": false,
     "input": [
      "coaches.info()"
     ],
     "language": "python",
     "metadata": {},
     "outputs": [
      {
       "output_type": "stream",
       "stream": "stdout",
       "text": [
        "<class 'pandas.core.frame.DataFrame'>\n",
        "Int64Index: 344 entries, 0 to 343\n",
        "Data columns (total 3 columns):\n",
        "college    247 non-null object\n",
        "name       344 non-null object\n",
        "id         344 non-null object\n",
        "dtypes: object(3)"
       ]
      }
     ],
     "prompt_number": 49
    },
    {
     "cell_type": "code",
     "collapsed": false,
     "input": [
      "coaches['id'] = coaches['id'].apply(lambda x: x + 'c')"
     ],
     "language": "python",
     "metadata": {},
     "outputs": [],
     "prompt_number": 52
    },
    {
     "cell_type": "code",
     "collapsed": false,
     "input": [
      "coaches.sort(columns=['id']).to_csv('data/coaches_cleaned.csv', index=False)"
     ],
     "language": "python",
     "metadata": {},
     "outputs": [],
     "prompt_number": 54
    },
    {
     "cell_type": "markdown",
     "metadata": {},
     "source": [
      "##Coaches Seasonlog Data"
     ]
    },
    {
     "cell_type": "code",
     "collapsed": false,
     "input": [
      "coaches_seasonlog = pd.read_csv('data/coaches_seasonlog.csv', header=None, names=['standing','league','gp','season','age','l','w','team','id'], encoding='utf-8')"
     ],
     "language": "python",
     "metadata": {},
     "outputs": [],
     "prompt_number": 100
    },
    {
     "cell_type": "code",
     "collapsed": false,
     "input": [
      "coaches_seasonlog.info()"
     ],
     "language": "python",
     "metadata": {},
     "outputs": [
      {
       "output_type": "stream",
       "stream": "stdout",
       "text": [
        "<class 'pandas.core.frame.DataFrame'>\n",
        "Int64Index: 1813 entries, 0 to 1812\n",
        "Data columns (total 9 columns):\n",
        "standing    1738 non-null float64\n",
        "league      1813 non-null object\n",
        "gp          1738 non-null float64\n",
        "season      1813 non-null object\n",
        "age         1609 non-null object\n",
        "l           1738 non-null float64\n",
        "w           1738 non-null float64\n",
        "team        1738 non-null object\n",
        "id          1813 non-null object\n",
        "dtypes: float64(4), object(5)"
       ]
      }
     ],
     "prompt_number": 43
    },
    {
     "cell_type": "code",
     "collapsed": false,
     "input": [
      "coaches_seasonlog['id'] = coaches_seasonlog['id'].apply(lambda x: x + 'c')"
     ],
     "language": "python",
     "metadata": {},
     "outputs": [],
     "prompt_number": 101
    },
    {
     "cell_type": "code",
     "collapsed": false,
     "input": [
      "coaches_seasonlog['season'] = coaches_seasonlog['season'].apply(lambda x: int(x.split('-')[0]) + 1)"
     ],
     "language": "python",
     "metadata": {},
     "outputs": [],
     "prompt_number": 102
    },
    {
     "cell_type": "code",
     "collapsed": false,
     "input": [
      "coaches_award = coaches_seasonlog[coaches_seasonlog['team'].isnull()]"
     ],
     "language": "python",
     "metadata": {},
     "outputs": [],
     "prompt_number": 103
    },
    {
     "cell_type": "code",
     "collapsed": false,
     "input": [
      "coaches_seasonlog_cleaned = coaches_seasonlog.dropna(subset=['team'])"
     ],
     "language": "python",
     "metadata": {},
     "outputs": [],
     "prompt_number": 104
    },
    {
     "cell_type": "code",
     "collapsed": false,
     "input": [
      "coaches_seasonlog_cleaned.sort(columns=['id', 'season']).to_csv('data/coaches_seasonlog_cleaned.csv', index=False)"
     ],
     "language": "python",
     "metadata": {},
     "outputs": [],
     "prompt_number": 105
    },
    {
     "cell_type": "code",
     "collapsed": false,
     "input": [
      "coaches_award_cleaned = pd.DataFrame(coaches_award[['id','season','age','league']])"
     ],
     "language": "python",
     "metadata": {},
     "outputs": [],
     "prompt_number": 106
    },
    {
     "cell_type": "code",
     "collapsed": false,
     "input": [
      "coaches_award_cleaned.columns = ['id','season','league','award']"
     ],
     "language": "python",
     "metadata": {},
     "outputs": [],
     "prompt_number": 107
    },
    {
     "cell_type": "code",
     "collapsed": false,
     "input": [
      "coaches_award_cleaned.sort(columns=['id', 'season']).to_csv('data/coaches_award_cleaned.csv', index=False)"
     ],
     "language": "python",
     "metadata": {},
     "outputs": [],
     "prompt_number": 108
    },
    {
     "cell_type": "markdown",
     "metadata": {},
     "source": [
      "##Process into SQL"
     ]
    },
    {
     "cell_type": "markdown",
     "metadata": {},
     "source": [
      "This allows for easier aggregatation of the necessary nodes/edges and eliminates need to load data into memory with pandas DataFrames."
     ]
    },
    {
     "cell_type": "code",
     "collapsed": false,
     "input": [
      "import sqlite3 as sql"
     ],
     "language": "python",
     "metadata": {},
     "outputs": [],
     "prompt_number": 2
    },
    {
     "cell_type": "code",
     "collapsed": false,
     "input": [
      "with sql.connect('data/network.sqlite') as con:\n",
      "    c = con.cursor()\n",
      "    c.execute('''CREATE TABLE IF NOT EXISTS players (sys_id INTEGER PRIMARY KEY, id TEXT, name TEXT, pos TEXT)''')\n",
      "    c.execute('''CREATE TABLE IF NOT EXISTS players_college (sys_id INTEGER PRIMARY KEY, id TEXT, college TEXT, start TEXT, end TEXT)''')\n",
      "    c.execute('''CREATE TABLE IF NOT EXISTS players_hs (sys_id INTEGER PRIMARY KEY, id TEXT, hs TEXT, city TEXT, state TEXT, start TEXT, end TEXT)''')\n",
      "    c.execute('''CREATE TABLE IF NOT EXISTS players_nba (sys_id INTEGER PRIMARY KEY, id TEXT, team TEXT, team_id TEXT, start TEXT, end TEXT)''')\n",
      "    c.execute('''CREATE TABLE IF NOT EXISTS coaches (sys_id INTEGER PRIMARY KEY, id TEXT, name TEXT)''')\n",
      "    c.execute('''CREATE TABLE IF NOT EXISTS coaches_nba (sys_id INTEGER PRIMARY KEY, id TEXT, team TEXT, team_id TEXT, start TEXT, end TEXT)''')\n",
      "    c.execute('''CREATE TABLE IF NOT EXISTS coaches_seasonlog_totals (sys_id INTEGER PRIMARY KEY, id TEXT, league TEXT, season INTEGER, team_id TEXT, gp INTEGER, w INTEGER, l INTEGER, standing INTEGER)''')"
     ],
     "language": "python",
     "metadata": {},
     "outputs": [],
     "prompt_number": 120
    },
    {
     "cell_type": "code",
     "collapsed": false,
     "input": [
      "with sql.connect('data/network.sqlite') as con:\n",
      "    players[['id','name','pos']].sort(columns=['id']).to_sql('players', con, if_exists='append')\n",
      "    players[['id','college']].sort(columns=['id']).to_sql('players_college', con, if_exists='append')    "
     ],
     "language": "python",
     "metadata": {},
     "outputs": [],
     "prompt_number": 86
    },
    {
     "cell_type": "code",
     "collapsed": false,
     "input": [
      "with sql.connect('data/network.sqlite') as con:\n",
      "    players_hs_cleaned.sort(columns=['state','id'])[['id','hs','city','state']].to_sql('players_hs', con, if_exists='append')"
     ],
     "language": "python",
     "metadata": {},
     "outputs": [],
     "prompt_number": 87
    },
    {
     "cell_type": "code",
     "collapsed": false,
     "input": [
      "with sql.connect('data/network.sqlite') as con:\n",
      "    coaches.sort(columns=['id'])[['id','name']].to_sql('coaches', con, if_exists='append')"
     ],
     "language": "python",
     "metadata": {},
     "outputs": []
    },
    {
     "cell_type": "code",
     "collapsed": false,
     "input": [
      "coaches_seasonlog_cleaned = coaches_seasonlog_cleaned.rename(columns={'team': 'team_id'})"
     ],
     "language": "python",
     "metadata": {},
     "outputs": [],
     "prompt_number": 118
    },
    {
     "cell_type": "code",
     "collapsed": false,
     "input": [
      "with sql.connect('data/network.sqlite') as con:\n",
      "    coaches_seasonlog_cleaned[['id','league','season','team_id','gp','w','l','standing']].to_sql('coaches_seasonlog_totals', con, if_exists='append')"
     ],
     "language": "python",
     "metadata": {},
     "outputs": [],
     "prompt_number": 121
    },
    {
     "cell_type": "code",
     "collapsed": false,
     "input": [],
     "language": "python",
     "metadata": {},
     "outputs": []
    }
   ],
   "metadata": {}
  }
 ]
}